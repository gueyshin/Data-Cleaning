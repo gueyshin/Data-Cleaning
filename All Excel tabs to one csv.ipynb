{
 "cells": [
  {
   "cell_type": "code",
   "execution_count": 1,
   "metadata": {
    "collapsed": true
   },
   "outputs": [],
   "source": [
    "import pandas as pd"
   ]
  },
  {
   "cell_type": "code",
   "execution_count": 2,
   "metadata": {},
   "outputs": [
    {
     "name": "stderr",
     "output_type": "stream",
     "text": [
      "C:\\ProgramData\\Anaconda3\\lib\\site-packages\\pandas\\io\\excel.py:329: FutureWarning: The `sheetname` keyword is deprecated, use `sheet_name` instead\n",
      "  **kwds)\n"
     ]
    }
   ],
   "source": [
    "#reading in the ALL THE TABS in the excel file\n",
    "df = pd.read_excel('MasterOmniSet.xlsx', sheet_name=None, ignore_index=True)"
   ]
  },
  {
   "cell_type": "code",
   "execution_count": 3,
   "metadata": {},
   "outputs": [
    {
     "name": "stderr",
     "output_type": "stream",
     "text": [
      "C:\\ProgramData\\Anaconda3\\lib\\site-packages\\ipykernel_launcher.py:1: FutureWarning: Sorting because non-concatenation axis is not aligned. A future version\n",
      "of pandas will change to not sort by default.\n",
      "\n",
      "To accept the future behavior, pass 'sort=True'.\n",
      "\n",
      "To retain the current behavior and silence the warning, pass sort=False\n",
      "\n",
      "  \"\"\"Entry point for launching an IPython kernel.\n"
     ]
    }
   ],
   "source": [
    "# combining all the tabs\n",
    "cdf = pd.concat(df.values(), ignore_index=True)"
   ]
  },
  {
   "cell_type": "code",
   "execution_count": 7,
   "metadata": {
    "collapsed": true
   },
   "outputs": [],
   "source": [
    "#exporting the file to an excel file\n",
    "cdf.to_excel('MasterSetOmni.xlsx')"
   ]
  },
  {
   "cell_type": "markdown",
   "metadata": {},
   "source": [
    "# Alternative option"
   ]
  },
  {
   "cell_type": "code",
   "execution_count": null,
   "metadata": {
    "collapsed": true
   },
   "outputs": [],
   "source": [
    "import pandas as pd\n",
    " \n",
    "# If sheets are in the same file. \n",
    "xlsx = pd.ExcelFile('filename.xlsx')\n",
    "df1 = pd.read_excel(xlsx, 'Table 1')\n",
    "df2 = pd.read_excel(xlsx, 'Table 2')\n",
    "df3 = pd.read_excel(xlsx, 'Table 3')\n",
    "df4 = pd.read_excel(xlsx, 'Table 4')\n",
    "\n",
    "# If sheets are in different files. \n",
    "\"\"\"\n",
    "df1 = pd.read_excel('path_to_file.xls', sheet_name = \"Sheet1\")\n",
    "df2 = pd.read_excel('path_to_file.xls', sheet_name = \"Sheet2\")\n",
    "\"\"\"\n",
    "# Use pandas.concat(), pandas.merge, or DataFrame.join() to join the DataFrames\n",
    "df = pd.concat([df1, df2, df3, df4])\n",
    " \n",
    "# Save the DataFrame to a CSV. \n",
    "df.to_csv('filename2.csv', encoding='utf-8-sig')"
   ]
  }
 ],
 "metadata": {
  "kernelspec": {
   "display_name": "Python 3",
   "language": "python",
   "name": "python3"
  },
  "language_info": {
   "codemirror_mode": {
    "name": "ipython",
    "version": 3
   },
   "file_extension": ".py",
   "mimetype": "text/x-python",
   "name": "python",
   "nbconvert_exporter": "python",
   "pygments_lexer": "ipython3",
   "version": "3.6.2"
  }
 },
 "nbformat": 4,
 "nbformat_minor": 2
}
