{
 "cells": [
  {
   "cell_type": "code",
   "execution_count": 1,
   "metadata": {},
   "outputs": [],
   "source": [
    "import numpy as np\n",
    "import pandas as pd"
   ]
  },
  {
   "cell_type": "code",
   "execution_count": 2,
   "metadata": {},
   "outputs": [],
   "source": [
    "# define the name of file\n",
    "xls = pd.ExcelFile('Partyboat.xls')\n",
    "\n",
    "# import file, worksheet name, skip number of rows, keep the header)\n",
    "df = pd.read_excel(xls, 'position_id', skiprows=4, headers=True)\n",
    "\n",
    "# if want to read in a second tab, put in different dataframe\n",
    "# df2 = pd.read_excel(xls, 'Sheet2')"
   ]
  },
  {
   "cell_type": "code",
   "execution_count": 3,
   "metadata": {
    "scrolled": true
   },
   "outputs": [
    {
     "data": {
      "text/html": [
       "<div>\n",
       "<style scoped>\n",
       "    .dataframe tbody tr th:only-of-type {\n",
       "        vertical-align: middle;\n",
       "    }\n",
       "\n",
       "    .dataframe tbody tr th {\n",
       "        vertical-align: top;\n",
       "    }\n",
       "\n",
       "    .dataframe thead th {\n",
       "        text-align: right;\n",
       "    }\n",
       "</style>\n",
       "<table border=\"1\" class=\"dataframe\">\n",
       "  <thead>\n",
       "    <tr style=\"text-align: right;\">\n",
       "      <th></th>\n",
       "      <th>Unnamed: 0</th>\n",
       "      <th>Captain - All</th>\n",
       "      <th>Adminsitrative Assistants - Exec Office, treasure hunting, ASC, and Sales</th>\n",
       "      <th>Rooms - The wheel</th>\n",
       "      <th>Culinary and Stewarding forever</th>\n",
       "      <th>Food and rum forever Host, Supervisor, Bartender, Servers and Room Service Server</th>\n",
       "      <th>Rooms - Guest Services - Lookout Services</th>\n",
       "      <th>Rooms - Housekeeping &amp; Laundry</th>\n",
       "      <th>Handyperson - Handyperson</th>\n",
       "      <th>Total ship Score</th>\n",
       "      <th>All The Partyboat ships</th>\n",
       "    </tr>\n",
       "  </thead>\n",
       "  <tbody>\n",
       "    <tr>\n",
       "      <th>0</th>\n",
       "      <td>I have a clear understanding of The Partyboat'...</td>\n",
       "      <td>e.92/12</td>\n",
       "      <td>e.86/7</td>\n",
       "      <td>e.86/1a</td>\n",
       "      <td>e.80/5</td>\n",
       "      <td>e.75/16</td>\n",
       "      <td>a.00/10</td>\n",
       "      <td>e.79/1a</td>\n",
       "      <td>a.00/5</td>\n",
       "      <td>e.86/8e</td>\n",
       "      <td>e.8e/1a070</td>\n",
       "    </tr>\n",
       "    <tr>\n",
       "      <th>1</th>\n",
       "      <td>I have the materials and equipment I need to d...</td>\n",
       "      <td>e.58/12</td>\n",
       "      <td>e.57/7</td>\n",
       "      <td>e.e6/1a</td>\n",
       "      <td>e.00/5</td>\n",
       "      <td>e.06/16</td>\n",
       "      <td>a.00/10</td>\n",
       "      <td>e.6a/1a</td>\n",
       "      <td>a.00/5</td>\n",
       "      <td>e.a9/8e</td>\n",
       "      <td>e.a2/1a090</td>\n",
       "    </tr>\n",
       "    <tr>\n",
       "      <th>2</th>\n",
       "      <td>The Partyboat provides information on how well...</td>\n",
       "      <td>e.92/12</td>\n",
       "      <td>e.71/7</td>\n",
       "      <td>e.6a/1a</td>\n",
       "      <td>e.a0/5</td>\n",
       "      <td>e.56/16</td>\n",
       "      <td>a.00/10</td>\n",
       "      <td>e.71/1a</td>\n",
       "      <td>a.00/5</td>\n",
       "      <td>e.7e/8e</td>\n",
       "      <td>e.65/1e998</td>\n",
       "    </tr>\n",
       "    <tr>\n",
       "      <th>3</th>\n",
       "      <td>In the last seven days I have received recogni...</td>\n",
       "      <td>e.50/12</td>\n",
       "      <td>a.00/7</td>\n",
       "      <td>e.6a/1a</td>\n",
       "      <td>2.60/5</td>\n",
       "      <td>e.e1/16</td>\n",
       "      <td>a.00/9</td>\n",
       "      <td>e.17/12</td>\n",
       "      <td>e.80/5</td>\n",
       "      <td>e.50/80</td>\n",
       "      <td>e.ea/1e750</td>\n",
       "    </tr>\n",
       "    <tr>\n",
       "      <th>4</th>\n",
       "      <td>I feel empowered to do whatever is necessary t...</td>\n",
       "      <td>e.8e/12</td>\n",
       "      <td>a.00/7</td>\n",
       "      <td>e.9e/1a</td>\n",
       "      <td>e.20/5</td>\n",
       "      <td>e.75/16</td>\n",
       "      <td>a.00/10</td>\n",
       "      <td>e.71/1a</td>\n",
       "      <td>e.80/5</td>\n",
       "      <td>e.81/8e</td>\n",
       "      <td>e.72/1a0ae</td>\n",
       "    </tr>\n",
       "  </tbody>\n",
       "</table>\n",
       "</div>"
      ],
      "text/plain": [
       "                                          Unnamed: 0 Captain - All  \\\n",
       "0  I have a clear understanding of The Partyboat'...       e.92/12   \n",
       "1  I have the materials and equipment I need to d...       e.58/12   \n",
       "2  The Partyboat provides information on how well...       e.92/12   \n",
       "3  In the last seven days I have received recogni...       e.50/12   \n",
       "4  I feel empowered to do whatever is necessary t...       e.8e/12   \n",
       "\n",
       "  Adminsitrative Assistants - Exec Office, treasure hunting, ASC, and Sales  \\\n",
       "0                                             e.86/7                          \n",
       "1                                             e.57/7                          \n",
       "2                                             e.71/7                          \n",
       "3                                             a.00/7                          \n",
       "4                                             a.00/7                          \n",
       "\n",
       "  Rooms - The wheel Culinary and Stewarding forever  \\\n",
       "0           e.86/1a                          e.80/5   \n",
       "1           e.e6/1a                          e.00/5   \n",
       "2           e.6a/1a                          e.a0/5   \n",
       "3           e.6a/1a                          2.60/5   \n",
       "4           e.9e/1a                          e.20/5   \n",
       "\n",
       "  Food and rum forever Host, Supervisor, Bartender, Servers and Room Service Server  \\\n",
       "0                                            e.75/16                                  \n",
       "1                                            e.06/16                                  \n",
       "2                                            e.56/16                                  \n",
       "3                                            e.e1/16                                  \n",
       "4                                            e.75/16                                  \n",
       "\n",
       "  Rooms - Guest Services - Lookout Services Rooms - Housekeeping & Laundry  \\\n",
       "0                                   a.00/10                        e.79/1a   \n",
       "1                                   a.00/10                        e.6a/1a   \n",
       "2                                   a.00/10                        e.71/1a   \n",
       "3                                    a.00/9                        e.17/12   \n",
       "4                                   a.00/10                        e.71/1a   \n",
       "\n",
       "  Handyperson - Handyperson Total ship Score All The Partyboat ships  \n",
       "0                    a.00/5          e.86/8e              e.8e/1a070  \n",
       "1                    a.00/5          e.a9/8e              e.a2/1a090  \n",
       "2                    a.00/5          e.7e/8e              e.65/1e998  \n",
       "3                    e.80/5          e.50/80              e.ea/1e750  \n",
       "4                    e.80/5          e.81/8e              e.72/1a0ae  "
      ]
     },
     "execution_count": 3,
     "metadata": {},
     "output_type": "execute_result"
    }
   ],
   "source": [
    "#dropping empty rows\n",
    "\n",
    "df.dropna(inplace=True)\n",
    "df.head()"
   ]
  },
  {
   "cell_type": "code",
   "execution_count": 4,
   "metadata": {},
   "outputs": [],
   "source": [
    "# created new dataframe with the first column of statements\n",
    "df_clean=pd.DataFrame(data=df.iloc[:,0])"
   ]
  },
  {
   "cell_type": "code",
   "execution_count": 5,
   "metadata": {},
   "outputs": [],
   "source": [
    "# use for loop to split all columns with delimiter into two separate columns\n",
    "## try, except to pass over the error to keep running\n",
    "\n",
    "try:   \n",
    "    for i in range(1,len(df.columns)): #naming it through the end of the column range\n",
    "        new_col1 = str(df.columns.values[i]) + '_score' # define and name the columns\n",
    "        new_col2 =  str(df.columns.values[i]) + '_no'\n",
    "        x = df.iloc[:,i].str.split(\"/\") # split the column and assign to x\n",
    "        df_clean[new_col1] = x.apply(lambda j: float(j[0])) #create new col with names and extract first item in x\n",
    "        df_clean[new_col2] = x.apply(lambda k: float(k[1]))\n",
    "        print(type(x))\n",
    "except:\n",
    "    pass"
   ]
  },
  {
   "cell_type": "code",
   "execution_count": 6,
   "metadata": {},
   "outputs": [],
   "source": [
    "# transpose the dataframe\n",
    "df_final = df_clean.set_index('Unnamed: 0').T"
   ]
  },
  {
   "cell_type": "code",
   "execution_count": 7,
   "metadata": {},
   "outputs": [
    {
     "data": {
      "text/html": [
       "<div>\n",
       "<style scoped>\n",
       "    .dataframe tbody tr th:only-of-type {\n",
       "        vertical-align: middle;\n",
       "    }\n",
       "\n",
       "    .dataframe tbody tr th {\n",
       "        vertical-align: top;\n",
       "    }\n",
       "\n",
       "    .dataframe thead th {\n",
       "        text-align: right;\n",
       "    }\n",
       "</style>\n",
       "<table border=\"1\" class=\"dataframe\">\n",
       "  <thead>\n",
       "    <tr style=\"text-align: right;\">\n",
       "      <th>Unnamed: 0</th>\n",
       "      <th>I have a clear understanding of The Partyboat's objectives.</th>\n",
       "      <th>I have the materials and equipment I need to do my work correctly.</th>\n",
       "      <th>The Partyboat provides information on how well we are performing against our goals.</th>\n",
       "      <th>In the last seven days I have received recognition or praise for doing good work.</th>\n",
       "      <th>I feel empowered to do whatever is necessary to satisfy the kraken.</th>\n",
       "      <th>My coworkers are committed to doing quality work.</th>\n",
       "      <th>There is someone at work that encourages my continued development.</th>\n",
       "      <th>My job allows me to do what I do best every day.</th>\n",
       "      <th>I receive the support I need from other departments to provide quality service.</th>\n",
       "      <th>Procedures and policies are applied fairly and consistently.</th>\n",
       "      <th>I know what is expected of me at work.</th>\n",
       "      <th>I receive on-going training that continues to develop me for the future.</th>\n",
       "      <th>At work, my opinions seem to count.</th>\n",
       "      <th>There is at least one manager in my department whom I feel comfortable going to with questions.</th>\n",
       "      <th>I would recommend The Partyboat to my friends as a great place to work.</th>\n",
       "      <th>My supervisor cares about me as a person.</th>\n",
       "      <th>Overall, The Partyboat is a great place to work.</th>\n",
       "    </tr>\n",
       "  </thead>\n",
       "  <tbody>\n",
       "  </tbody>\n",
       "</table>\n",
       "</div>"
      ],
      "text/plain": [
       "Empty DataFrame\n",
       "Columns: [I have a clear understanding of The Partyboat's objectives., I have the materials and equipment I need to do my work correctly., The Partyboat provides information on how well we are performing against our goals., In the last seven days I have received recognition or praise for doing good work., I feel empowered to do whatever is necessary to satisfy the kraken., My coworkers are committed to doing quality work., There is someone at work that encourages my continued development., My job allows me to do what I do best every day., I receive the support I need from other departments to provide quality service., Procedures and policies are applied fairly and consistently., I know what is expected of me at work., I receive on-going training that continues to develop me for the future., At work, my opinions seem to count., There is at least one manager in my department whom I feel comfortable going to with questions., I would recommend The Partyboat to my friends as a great place to work., My supervisor cares about me as a person., Overall, The Partyboat is a great place to work.]\n",
       "Index: []"
      ]
     },
     "execution_count": 7,
     "metadata": {},
     "output_type": "execute_result"
    }
   ],
   "source": [
    "df_final"
   ]
  },
  {
   "cell_type": "code",
   "execution_count": 8,
   "metadata": {},
   "outputs": [],
   "source": [
    "# renaming columns\n",
    "df_final.columns=['Items','Objectives','Resources','Recognition','Empowered','Coworkers','Encouraged','Best','Support','Fair','Clear','Training','Involved','Manager','Recommend','Supervisor','Satisfaction']"
   ]
  },
  {
   "cell_type": "code",
   "execution_count": 9,
   "metadata": {},
   "outputs": [],
   "source": [
    "# export dataframe into excel file\n",
    "\n",
    "# df_final.to_excel('Partyboat 2018.xlsx')"
   ]
  }
 ],
 "metadata": {
  "kernelspec": {
   "display_name": "Python 3",
   "language": "python",
   "name": "python3"
  },
  "language_info": {
   "codemirror_mode": {
    "name": "ipython",
    "version": 3
   },
   "file_extension": ".py",
   "mimetype": "text/x-python",
   "name": "python",
   "nbconvert_exporter": "python",
   "pygments_lexer": "ipython3",
   "version": "3.6.5"
  }
 },
 "nbformat": 4,
 "nbformat_minor": 2
}
